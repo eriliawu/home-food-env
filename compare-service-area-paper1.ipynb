{
 "cells": [
  {
   "cell_type": "markdown",
   "metadata": {},
   "source": [
    "### re-do mean count of outlets within buffers"
   ]
  },
  {
   "cell_type": "code",
   "execution_count": 1,
   "metadata": {},
   "outputs": [],
   "source": [
    "set more off \n",
    "clear all"
   ]
  },
  {
   "cell_type": "code",
   "execution_count": 2,
   "metadata": {},
   "outputs": [
    {
     "name": "stdout",
     "output_type": "stream",
     "text": [
      "C:\\Users\\wue04\\Box Sync\\home-food-env\n"
     ]
    }
   ],
   "source": [
    "pwd"
   ]
  },
  {
   "cell_type": "code",
   "execution_count": 4,
   "metadata": {},
   "outputs": [
    {
     "name": "stdout",
     "output_type": "stream",
     "text": [
      "(8 vars, 1,668,726 obs)\n"
     ]
    }
   ],
   "source": [
    "import delimited \"H:\\Personal\\food environment paper 1\\2013\\num-of-ffor.csv\", clear"
   ]
  },
  {
   "cell_type": "code",
   "execution_count": 6,
   "metadata": {},
   "outputs": [],
   "source": [
    "keep facilityrank incidentid total name"
   ]
  },
  {
   "cell_type": "code",
   "execution_count": 8,
   "metadata": {},
   "outputs": [
    {
     "name": "stdout",
     "output_type": "stream",
     "text": [
      "variables created as string: \n",
      "name1  name2  name3\n"
     ]
    }
   ],
   "source": [
    "split name, p(\" - \")\n",
    "drop name name1\n",
    "rename name2 name name3\n",
    "compress"
   ]
  },
  {
   "cell_type": "code",
   "execution_count": 15,
   "metadata": {},
   "outputs": [
    {
     "name": "stdout",
     "output_type": "stream",
     "text": [
      "\n",
      "(1589050 missing values generated)\n",
      "\n",
      "(1153859 missing values generated)\n",
      "\n"
     ]
    }
   ],
   "source": [
    "bys incidentid: egen ffor528 = max(facilityrank) if total<=528\n",
    "bys incidentid: egen ffor1320 = max(facilityrank) if total<=1320\n",
    "bys incidentid: egen ffor2640 = max(facilityrank)"
   ]
  },
  {
   "cell_type": "code",
   "execution_count": 17,
   "metadata": {},
   "outputs": [
    {
     "name": "stdout",
     "output_type": "stream",
     "text": [
      "\n",
      "Duplicates in terms of incidentid\n",
      "\n",
      "(1,620,438 observations deleted)\n"
     ]
    }
   ],
   "source": [
    "drop facilityrank total name\n",
    "duplicates drop incidentid, force"
   ]
  },
  {
   "cell_type": "code",
   "execution_count": 18,
   "metadata": {},
   "outputs": [
    {
     "name": "stdout",
     "output_type": "stream",
     "text": [
      "\n",
      "\n",
      "  variable count528 was float now byte\n",
      "  variable count1320 was float now byte\n",
      "  variable count2640 was float now byte\n",
      "  variable year was float now int\n",
      "  (531,168 bytes saved)\n"
     ]
    }
   ],
   "source": [
    "gen year=2013\n",
    "compress"
   ]
  },
  {
   "cell_type": "code",
   "execution_count": 19,
   "metadata": {},
   "outputs": [],
   "source": [
    "rename inci id"
   ]
  },
  {
   "cell_type": "code",
   "execution_count": 22,
   "metadata": {},
   "outputs": [
    {
     "name": "stdout",
     "output_type": "stream",
     "text": [
      "\n",
      "(28,803 real changes made)\n",
      "(7,599 real changes made)\n",
      "(0 real changes made)\n"
     ]
    }
   ],
   "source": [
    "foreach i in 528 1320 2640 {\n",
    "    replace ffor`i'=0 if missing(ffor`i')\n",
    "}"
   ]
  },
  {
   "cell_type": "code",
   "execution_count": 23,
   "metadata": {},
   "outputs": [
    {
     "name": "stdout",
     "output_type": "stream",
     "text": [
      "(note: variable id was long, now double to accommodate using data's values)\n",
      "\n",
      "    Result                           # of obs.\n",
      "    -----------------------------------------\n",
      "    not matched                     1,435,073\n",
      "        from master                         0  (_merge==1)\n",
      "        from using                  1,435,073  (_merge==2)\n",
      "\n",
      "    matched                            48,288  (_merge==3)\n",
      "    -----------------------------------------\n"
     ]
    }
   ],
   "source": [
    "merge 1:m id year using \"C:\\Users\\wue04\\Box Sync\\fresh\\data\\address\\xy12-16.dta\""
   ]
  },
  {
   "cell_type": "code",
   "execution_count": 25,
   "metadata": {},
   "outputs": [
    {
     "name": "stdout",
     "output_type": "stream",
     "text": [
      "\n",
      "\n",
      "(1,191,812 observations deleted)\n"
     ]
    }
   ],
   "source": [
    "drop id _merge\n",
    "drop if year!=2013\n",
    "drop if missing(ffor2640)"
   ]
  },
  {
   "cell_type": "code",
   "execution_count": 28,
   "metadata": {},
   "outputs": [
    {
     "name": "stdout",
     "output_type": "stream",
     "text": [
      "\n",
      "    Result                           # of obs.\n",
      "    -----------------------------------------\n",
      "    not matched                       956,070\n",
      "        from master                         5  (_merge==1)\n",
      "        from using                    956,065  (_merge==2)\n",
      "\n",
      "    matched                           173,853  (_merge==3)\n",
      "    -----------------------------------------\n"
     ]
    }
   ],
   "source": [
    "merge 1:m x y year using \"H:\\Personal\\food environment paper 1\\food_environment_2013_paper1.dta\""
   ]
  },
  {
   "cell_type": "code",
   "execution_count": 30,
   "metadata": {},
   "outputs": [
    {
     "name": "stdout",
     "output_type": "stream",
     "text": [
      "\n",
      "\n",
      "       year |      Freq.     Percent        Cum.\n",
      "------------+-----------------------------------\n",
      "       2013 |  1,129,923      100.00      100.00\n",
      "------------+-----------------------------------\n",
      "      Total |  1,129,923      100.00\n",
      "\n",
      "(956,070 observations deleted)\n"
     ]
    }
   ],
   "source": [
    "tab year\n",
    "drop if _merge!=3"
   ]
  },
  {
   "cell_type": "code",
   "execution_count": 31,
   "metadata": {},
   "outputs": [],
   "source": [
    "drop _merge"
   ]
  },
  {
   "cell_type": "markdown",
   "metadata": {},
   "source": [
    "### analytics"
   ]
  },
  {
   "cell_type": "code",
   "execution_count": 33,
   "metadata": {},
   "outputs": [
    {
     "name": "stdout",
     "output_type": "stream",
     "text": [
      "\n",
      "\n",
      "  133,436\n"
     ]
    }
   ],
   "source": [
    "global sample !missing(x) & !missing(age) & !missing(grade) & !missing(bds) & ///\n",
    "\t!missing(ethnic) & !missing(x_sch) & home>2640 & sch>2640 & district<=32 & ///\n",
    "\teth!=6 & !missing(boro) & !missing(boro_sch) & !missing(native) //133,436\n",
    "count if $sample"
   ]
  },
  {
   "cell_type": "code",
   "execution_count": 39,
   "metadata": {},
   "outputs": [
    {
     "name": "stdout",
     "output_type": "stream",
     "text": [
      "\n",
      "\n",
      "    Variable |        Obs        Mean    Std. Dev.       Min        Max\n",
      "-------------+---------------------------------------------------------\n",
      "    ffor1320 |    130,130    11.78111    10.86697          0         70\n",
      "   nFFOR1320 |    130,130    16.55005    14.07168          0         75\n",
      "\n",
      "\n",
      "    Variable |        Obs        Mean    Std. Dev.       Min        Max\n",
      "-------------+---------------------------------------------------------\n",
      "     ffor528 |    133,436    2.013505    3.478482          0         45\n",
      "    nFFOR528 |    133,436    3.118619     6.24295          0         77\n",
      "\n",
      "\n",
      "    Variable |        Obs        Mean    Std. Dev.       Min        Max\n",
      "-------------+---------------------------------------------------------\n",
      "    ffor2640 |     96,166    30.37855    17.36253          1         75\n",
      "   nFFOR2640 |     96,166    36.59985    19.88472          0         75\n",
      "\n",
      "\n",
      "     Sheet1 |      Freq.     Percent        Cum.\n",
      "------------+-----------------------------------\n",
      "          1 |     18,467       13.84       13.84\n",
      "          2 |     21,827       16.36       30.20\n",
      "          3 |     54,471       40.82       71.02\n",
      "          4 |     28,684       21.50       92.52\n",
      "          5 |      9,987        7.48      100.00\n",
      "------------+-----------------------------------\n",
      "      Total |    133,436      100.00\n"
     ]
    }
   ],
   "source": [
    "sum ffor1320 nFFOR1320 if $sample & nFFOR1320<=75\n",
    "sum ffor528 nFFOR528 if $sample\n",
    "sum ffor2640 nFFOR2640 if $sample & nFFOR2640<=75\n",
    "tab boro if !missing(ffor2640) & $sample"
   ]
  },
  {
   "cell_type": "code",
   "execution_count": 40,
   "metadata": {},
   "outputs": [
    {
     "name": "stdout",
     "output_type": "stream",
     "text": [
      "\n",
      "Stata/SE 15.1 for Windows (64-bit x86-64)\n",
      "Revision 11 Jan 2018\n",
      "Copyright 1985-2017 StataCorp LLC\n",
      "\n",
      "Total physical memory:    16700696 KB\n",
      "Available physical memory: 7294348 KB\n",
      "\n",
      "Single-user Stata perpetual license:\n",
      "       Serial number:  401506217829\n",
      "         Licensed to:  NYUMC\n",
      "                       NYU Medical Center\n"
     ]
    }
   ],
   "source": []
  },
  {
   "cell_type": "code",
   "execution_count": null,
   "metadata": {},
   "outputs": [],
   "source": []
  }
 ],
 "metadata": {
  "kernelspec": {
   "display_name": "Stata",
   "language": "stata",
   "name": "stata"
  },
  "language_info": {
   "codemirror_mode": "stata",
   "file_extension": ".do",
   "mimetype": "text/x-stata",
   "name": "stata",
   "version": "15.1"
  }
 },
 "nbformat": 4,
 "nbformat_minor": 2
}
